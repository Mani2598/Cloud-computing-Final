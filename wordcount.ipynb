{
  "nbformat": 4,
  "nbformat_minor": 0,
  "metadata": {
    "colab": {
      "name": "Untitled11.ipynb",
      "provenance": []
    },
    "kernelspec": {
      "name": "python3",
      "display_name": "Python 3"
    },
    "language_info": {
      "name": "python"
    }
  },
  "cells": [
    {
      "cell_type": "code",
      "metadata": {
        "id": "7Rin-I795FNQ"
      },
      "source": [
        "sc=SparkContext.getOrCreate()\n",
        "\n",
        "fileRDD=sc.textFile(\"maninder.banala.txt\")\n",
        "result=fileRDD.flatMap(lambda x: x.split(\" \")).map(lambda word:(word,1)).reduceByKey(lambda a,b: a+b)\n",
        "\n",
        "result.coalesce(1).saveAsTextFile(\"result.txt\")\n",
        "\n",
        "res=result.collect()\n",
        "print(res)"
      ],
      "execution_count": null,
      "outputs": []
    }
  ]
}
